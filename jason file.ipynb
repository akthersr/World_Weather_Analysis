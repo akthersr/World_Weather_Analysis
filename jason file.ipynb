{
 "cells": [
  {
   "cell_type": "code",
   "execution_count": 1,
   "id": "9ed188db",
   "metadata": {},
   "outputs": [],
   "source": [
    "import requests\n",
    "from config import weather_api_key"
   ]
  },
  {
   "cell_type": "code",
   "execution_count": 2,
   "id": "124b86d5",
   "metadata": {},
   "outputs": [],
   "source": [
    "url = \"http://api.openweathermap.org/data/2.5/weather?units=Imperial&APPID=\"\n",
    "city='London'"
   ]
  },
  {
   "cell_type": "code",
   "execution_count": 3,
   "id": "5aa428a6",
   "metadata": {},
   "outputs": [],
   "source": [
    "query_url=url+\"appid=\"+weather_api_key+\"&q=\"+city"
   ]
  },
  {
   "cell_type": "code",
   "execution_count": 4,
   "id": "6f1ec2e9",
   "metadata": {},
   "outputs": [],
   "source": [
    "weather_response=requests.get(query_url)\n",
    "weather_json=weather_response.json()"
   ]
  },
  {
   "cell_type": "code",
   "execution_count": 7,
   "id": "8c884bb4",
   "metadata": {},
   "outputs": [
    {
     "data": {
      "text/plain": [
       "dict_keys(['cod', 'message'])"
      ]
     },
     "execution_count": 7,
     "metadata": {},
     "output_type": "execute_result"
    }
   ],
   "source": [
    "weather_json.keys()"
   ]
  },
  {
   "cell_type": "code",
   "execution_count": 8,
   "id": "a7631598",
   "metadata": {},
   "outputs": [
    {
     "data": {
      "text/plain": [
       "'Invalid API key. Please see http://openweathermap.org/faq#error401 for more info.'"
      ]
     },
     "execution_count": 8,
     "metadata": {},
     "output_type": "execute_result"
    }
   ],
   "source": [
    "weather_json.get('message')"
   ]
  },
  {
   "cell_type": "code",
   "execution_count": null,
   "id": "e32ec19d",
   "metadata": {},
   "outputs": [],
   "source": []
  }
 ],
 "metadata": {
  "kernelspec": {
   "display_name": "PythonData",
   "language": "python",
   "name": "pythondata"
  },
  "language_info": {
   "codemirror_mode": {
    "name": "ipython",
    "version": 3
   },
   "file_extension": ".py",
   "mimetype": "text/x-python",
   "name": "python",
   "nbconvert_exporter": "python",
   "pygments_lexer": "ipython3",
   "version": "3.7.11"
  }
 },
 "nbformat": 4,
 "nbformat_minor": 5
}
