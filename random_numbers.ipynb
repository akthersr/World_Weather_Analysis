{
 "cells": [
  {
   "cell_type": "code",
   "execution_count": 1,
   "id": "9b4fb566",
   "metadata": {},
   "outputs": [],
   "source": [
    "# Import the random module.\n",
    "import random"
   ]
  },
  {
   "cell_type": "code",
   "execution_count": 2,
   "id": "1137e7f6",
   "metadata": {},
   "outputs": [
    {
     "data": {
      "text/plain": [
       "0.47583496317374885"
      ]
     },
     "execution_count": 2,
     "metadata": {},
     "output_type": "execute_result"
    }
   ],
   "source": [
    "random.random()"
   ]
  },
  {
   "cell_type": "code",
   "execution_count": 3,
   "id": "3c686a42",
   "metadata": {},
   "outputs": [
    {
     "data": {
      "text/plain": [
       "-58"
      ]
     },
     "execution_count": 3,
     "metadata": {},
     "output_type": "execute_result"
    }
   ],
   "source": [
    "random.randint(-90, 90)"
   ]
  },
  {
   "cell_type": "code",
   "execution_count": 12,
   "id": "be4e26ee",
   "metadata": {},
   "outputs": [
    {
     "data": {
      "text/plain": [
       "55.73963144582254"
      ]
     },
     "execution_count": 12,
     "metadata": {},
     "output_type": "execute_result"
    }
   ],
   "source": [
    "random_number=random.randint(-90,89)+random.random()\n",
    "random_number"
   ]
  },
  {
   "cell_type": "code",
   "execution_count": 33,
   "id": "359f188a",
   "metadata": {},
   "outputs": [
    {
     "ename": "IndentationError",
     "evalue": "unexpected indent (Temp/ipykernel_23428/2372691713.py, line 2)",
     "output_type": "error",
     "traceback": [
      "\u001b[1;36m  File \u001b[1;32m\"C:\\Users\\sushm\\AppData\\Local\\Temp/ipykernel_23428/2372691713.py\"\u001b[1;36m, line \u001b[1;32m2\u001b[0m\n\u001b[1;33m    latitudes = []\u001b[0m\n\u001b[1;37m    ^\u001b[0m\n\u001b[1;31mIndentationError\u001b[0m\u001b[1;31m:\u001b[0m unexpected indent\n"
     ]
    }
   ],
   "source": [
    "x = 1\n",
    " latitudes = []\n",
    "while x < 11\n",
    "    random_lat = random.randint(-90, 90) + random.random()\n",
    "        latitudes.append(random_lat)\n",
    "        x += 1\n",
    "    latitudes "
   ]
  },
  {
   "cell_type": "code",
   "execution_count": 16,
   "id": "ab1a5149",
   "metadata": {},
   "outputs": [
    {
     "data": {
      "text/plain": [
       "-81"
      ]
     },
     "execution_count": 16,
     "metadata": {},
     "output_type": "execute_result"
    }
   ],
   "source": [
    "random.randrange(-90, 90, step=1)"
   ]
  },
  {
   "cell_type": "code",
   "execution_count": 17,
   "id": "d16f6c18",
   "metadata": {},
   "outputs": [
    {
     "data": {
      "text/plain": [
       "-30"
      ]
     },
     "execution_count": 17,
     "metadata": {},
     "output_type": "execute_result"
    }
   ],
   "source": [
    "random.randrange(-90, 90, step=3) "
   ]
  },
  {
   "cell_type": "code",
   "execution_count": 18,
   "id": "459e4745",
   "metadata": {},
   "outputs": [
    {
     "data": {
      "text/plain": [
       "49.81173067401045"
      ]
     },
     "execution_count": 18,
     "metadata": {},
     "output_type": "execute_result"
    }
   ],
   "source": [
    "random.uniform(-90, 90) "
   ]
  },
  {
   "cell_type": "code",
   "execution_count": 20,
   "id": "2dd9d6a9",
   "metadata": {},
   "outputs": [],
   "source": [
    "# Import the NumPy module.\n",
    "import numpy as np"
   ]
  },
  {
   "cell_type": "code",
   "execution_count": 21,
   "id": "0132557a",
   "metadata": {},
   "outputs": [
    {
     "data": {
      "text/plain": [
       "array([-12.63897557, -29.62368614,  55.6867824 ,  56.50487115,\n",
       "       -81.82776039,  -8.30087768, -56.8036344 ,   0.41838873,\n",
       "       -65.47899253,  43.23332173,  -6.98763067,  -9.79021437,\n",
       "         1.2118131 , -12.25385161,  88.09533922, -34.874527  ,\n",
       "        81.43231596,  31.09842343, -11.41821084, -47.00815063,\n",
       "       -46.5447438 ,  50.25124388, -85.0427564 , -13.75761641,\n",
       "        26.4237397 ,  17.87406231,  73.72380003, -50.86874008,\n",
       "        23.82900514,  33.62791461, -20.39018568, -53.71439967,\n",
       "         6.36138799, -37.98940166,  10.79486969,  34.40820975,\n",
       "        66.25255477,  29.95168279,  48.09720397,  27.39873431,\n",
       "        79.06521923, -34.02636341,  61.20363381, -33.56197951,\n",
       "        86.81845281, -17.78251361,   6.28591547, -12.39028948,\n",
       "       -33.35460046,  81.705262  ])"
      ]
     },
     "execution_count": 21,
     "metadata": {},
     "output_type": "execute_result"
    }
   ],
   "source": [
    "np.random.uniform(-90.000, 90.000, size=50)"
   ]
  },
  {
   "cell_type": "code",
   "execution_count": 22,
   "id": "585ddad0",
   "metadata": {},
   "outputs": [
    {
     "data": {
      "text/plain": [
       "-12.085538795771953"
      ]
     },
     "execution_count": 22,
     "metadata": {},
     "output_type": "execute_result"
    }
   ],
   "source": [
    "np.random.uniform(-90.000, 90.000)"
   ]
  },
  {
   "cell_type": "code",
   "execution_count": 23,
   "id": "f80f002c",
   "metadata": {},
   "outputs": [
    {
     "data": {
      "text/plain": [
       "-63.692415568502824"
      ]
     },
     "execution_count": 23,
     "metadata": {},
     "output_type": "execute_result"
    }
   ],
   "source": [
    "np.random.uniform(low=-90, high=90)"
   ]
  },
  {
   "cell_type": "code",
   "execution_count": 24,
   "id": "1be9c218",
   "metadata": {},
   "outputs": [
    {
     "data": {
      "text/plain": [
       "array([ 20.27151324, -39.30983144, -31.88914917, -23.75894073,\n",
       "       -82.47416344, -19.52476722, -48.44807702, -21.89367755,\n",
       "       -29.36546466, -39.53644559, -49.7130425 ,  53.934977  ,\n",
       "       -75.3268812 , -31.03843173,  75.74160669, -37.69395831,\n",
       "       -43.93469601,  36.19275098, -86.06478279, -35.15963943,\n",
       "        58.38078393,  54.95627627, -54.06572477,  62.4328226 ,\n",
       "        11.05213442, -72.07665857,  53.28847355,  55.02647034,\n",
       "        64.34933603,   8.42369093, -15.93716875, -69.20754463,\n",
       "       -41.90972367,  22.96895648,  52.38219841, -47.32414767,\n",
       "       -56.93495281, -44.73726586,  55.46393962,   1.9706129 ,\n",
       "       -83.06869056,  10.14337584,  62.97294675, -14.84257674,\n",
       "       -53.5048314 ,  78.7273507 ,  73.52338503,  -7.74709783,\n",
       "       -10.79520494,  65.09805242])"
      ]
     },
     "execution_count": 24,
     "metadata": {},
     "output_type": "execute_result"
    }
   ],
   "source": [
    "np.random.uniform(low=-90, high=90,size=50)"
   ]
  },
  {
   "cell_type": "code",
   "execution_count": 25,
   "id": "f4ce3bb0",
   "metadata": {},
   "outputs": [],
   "source": [
    "# Import timeit.\n",
    "import timeit"
   ]
  },
  {
   "cell_type": "code",
   "execution_count": 26,
   "id": "82e1cb46",
   "metadata": {},
   "outputs": [
    {
     "name": "stdout",
     "output_type": "stream",
     "text": [
      "12.6 µs ± 291 ns per loop (mean ± std. dev. of 7 runs, 100000 loops each)\n"
     ]
    }
   ],
   "source": [
    "%timeit np.random.uniform(-90.000, 90.000, size=1500)"
   ]
  },
  {
   "cell_type": "code",
   "execution_count": 27,
   "id": "07925e3a",
   "metadata": {},
   "outputs": [
    {
     "name": "stdout",
     "output_type": "stream",
     "text": [
      "1.64 ms ± 15.4 µs per loop (mean ± std. dev. of 7 runs, 1000 loops each)\n"
     ]
    }
   ],
   "source": [
    "def latitudes(size):\n",
    "    latitudes = []\n",
    "    x = 0\n",
    "    while x < (size):\n",
    "        random_lat = random.randint(-90, 90) + random.random()\n",
    "        latitudes.append(random_lat)\n",
    "        x += 1\n",
    "    return latitudes\n",
    "# Call the function with 1500.\n",
    "%timeit latitudes(1500)"
   ]
  },
  {
   "cell_type": "code",
   "execution_count": null,
   "id": "6eb93250",
   "metadata": {},
   "outputs": [],
   "source": [
    "np.random.uniform(-90.000, 90.000, size=1500)"
   ]
  },
  {
   "cell_type": "code",
   "execution_count": null,
   "id": "56f6a40f",
   "metadata": {},
   "outputs": [],
   "source": [
    "%timeit"
   ]
  },
  {
   "cell_type": "code",
   "execution_count": null,
   "id": "9c6da3a8",
   "metadata": {},
   "outputs": [],
   "source": [
    "# Import the dependencies.\n",
    "import pandas as pd\n",
    "import matplotlib.pyplot as plt\n",
    "import numpy as np"
   ]
  },
  {
   "cell_type": "code",
   "execution_count": null,
   "id": "78b2ea43",
   "metadata": {},
   "outputs": [],
   "source": [
    "# Create a set of random latitude and longitude combinations.\n",
    "lats = np.random.uniform(low=-90.000, high=90.000, size=1500)\n",
    "lngs = np.random.uniform(low=-180.000, high=180.000, size=1500)\n",
    "lat_lngs = zip(lats, lngs)\n",
    "lat_lngs"
   ]
  },
  {
   "cell_type": "code",
   "execution_count": null,
   "id": "818d0a40",
   "metadata": {},
   "outputs": [],
   "source": [
    "# Create a practice set of random latitude and longitude combinations.\n",
    "lats = [25.12903645, 25.92017388, 26.62509167, -59.98969384, 37.30571269]\n",
    "lngs = [-67.59741259, 11.09532135, 74.84233102, -76.89176677, -61.13376282]\n",
    "lat_lngs = zip(lats, lngs)"
   ]
  },
  {
   "cell_type": "code",
   "execution_count": null,
   "id": "f53c75c9",
   "metadata": {},
   "outputs": [],
   "source": [
    "# Add the latitudes and longitudes to a list.\n",
    "coordinates = list(lat_lngs)"
   ]
  },
  {
   "cell_type": "code",
   "execution_count": null,
   "id": "6a41a302",
   "metadata": {},
   "outputs": [],
   "source": [
    "# Use the print() function to display the latitude and longitude combinations.\n",
    "for coordinate in coordinates:\n",
    "    print(coordinate[0], coordinate[1])"
   ]
  },
  {
   "cell_type": "code",
   "execution_count": null,
   "id": "b84e5ed9",
   "metadata": {},
   "outputs": [],
   "source": []
  }
 ],
 "metadata": {
  "kernelspec": {
   "display_name": "PythonData",
   "language": "python",
   "name": "pythondata"
  },
  "language_info": {
   "codemirror_mode": {
    "name": "ipython",
    "version": 3
   },
   "file_extension": ".py",
   "mimetype": "text/x-python",
   "name": "python",
   "nbconvert_exporter": "python",
   "pygments_lexer": "ipython3",
   "version": "3.7.11"
  }
 },
 "nbformat": 4,
 "nbformat_minor": 5
}
